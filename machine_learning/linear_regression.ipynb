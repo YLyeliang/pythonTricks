{
 "cells": [
  {
   "cell_type": "markdown",
   "metadata": {
    "pycharm": {
     "name": "#%% md\n"
    }
   },
   "source": [
    "# 线性回归:\n",
    "最小二乘法线性回归，\n",
    "给定输入$𝐱 = (𝑥₁, …, 𝑥ᵣ)$, 假设 y和𝐱存在线性关系: $𝑦 = 𝛽₀ + 𝛽₁𝑥₁ + ⋯ + 𝛽ᵣ𝑥ᵣ + 𝜀$.该公式为回归方程\n",
    "$𝛽₀, 𝛽₁, …, 𝛽ᵣ$为回归参数, $𝜀$ 为随机偏差。\n",
    "则通过最小二乘法计算输出与预测的平方误差/残差和,然后使用极大似然估计求得残差和的最小值时参数的取值。\n",
    "由于最小二乘法的平方残差和为二次凸函数，其取得最小时导数为0，则对损失函数求导取0可以求得回归参数的取值。"
   ]
  },
  {
   "cell_type": "code",
   "execution_count": 3,
   "metadata": {},
   "outputs": [],
   "source": [
    "import numpy as np\n",
    "from sklearn.linear_model import LinearRegression\n"
   ]
  },
  {
   "cell_type": "code",
   "execution_count": 22,
   "metadata": {},
   "outputs": [
    {
     "name": "stdout",
     "output_type": "stream",
     "text": [
      "[[ 5]\n",
      " [15]\n",
      " [25]\n",
      " [35]\n",
      " [45]\n",
      " [55]]\n",
      "[ 5 20 14 32 22 38]\n"
     ]
    }
   ],
   "source": [
    "# 准备数据\n",
    "x = np.array([5, 15, 25, 35, 45, 55]).reshape((-1, 1))\n",
    "y = np.array([5, 20, 14, 32, 22, 38])\n",
    "print(x)\n",
    "print(y)\n"
   ]
  },
  {
   "cell_type": "code",
   "execution_count": 23,
   "metadata": {},
   "outputs": [
    {
     "data": {
      "text/plain": "LinearRegression()"
     },
     "execution_count": 23,
     "metadata": {},
     "output_type": "execute_result"
    }
   ],
   "source": [
    "# 建立线性回归模型\n",
    "model = LinearRegression()\n",
    "model"
   ]
  },
  {
   "cell_type": "markdown",
   "metadata": {},
   "source": [
    "额外参数：\n",
    "- **it_intercept** is a Boolean (True by default) that decides whether to calculate the intercept 𝑏₀ (True) or consider it equal to zero (False).\n",
    "- **normalize** is a Boolean (False by default) that decides whether to normalize the input variables (True) or not (False).\n",
    "- **copy_X** is a Boolean (True by default) that decides whether to copy (True) or overwrite the input variables (False).\n",
    "- **n_jobs** is an integer or None (default) and represents the number of jobs used in parallel computation. None usually means one job and -1 to use all processors.\n"
   ]
  },
  {
   "cell_type": "code",
   "execution_count": 24,
   "metadata": {},
   "outputs": [
    {
     "name": "stdout",
     "output_type": "stream",
     "text": [
      "coefficient of determination: 0.7158756137479542\n"
     ]
    }
   ],
   "source": [
    "# 拟合模型并得到结果\n",
    "model.fit(x, y)\n",
    "r_sq = model.score(x, y)\n",
    "print(\"coefficient of determination:\", r_sq)"
   ]
  },
  {
   "cell_type": "code",
   "execution_count": 25,
   "outputs": [
    {
     "name": "stdout",
     "output_type": "stream",
     "text": [
      "intercept:  5.633333333333329\n",
      "slop: [0.54]\n"
     ]
    }
   ],
   "source": [
    "# 模型属性 .intercept_：表示模型截距b0, .coef_表示回归参数b1\n",
    "print(\"intercept: \", model.intercept_)\n",
    "print(\"slop:\", model.coef_)"
   ],
   "metadata": {
    "collapsed": false,
    "pycharm": {
     "name": "#%%\n"
    }
   }
  },
  {
   "cell_type": "markdown",
   "source": [
    "验证，通过求解最小二乘法的导数，并分别对b0和b1求偏导数取0，可以得到\n",
    "b0 = \\sum{y_i - b_1x_i}/n\n",
    "\\sum{x_iy_i} - \\sum{b_0x_i}-\\sum{b_1x_i^2}=0\n",
    "可以求得 b0 = 0.54\n",
    "b1 = 5.63333\n",
    "与上述模型结果相同"
   ],
   "metadata": {
    "collapsed": false,
    "pycharm": {
     "name": "#%% md\n"
    }
   }
  },
  {
   "cell_type": "code",
   "execution_count": 29,
   "outputs": [
    {
     "name": "stdout",
     "output_type": "stream",
     "text": [
      "7150\n"
     ]
    }
   ],
   "source": [
    "n = y.shape[0]\n",
    "b1x = np.sum(x)/n\n",
    "yi = np.sum(y)/n\n",
    "xy = np.sum(x.squeeze()*y)\n",
    "b0x = np.sum(x)\n",
    "b1x2 = np.sum(x*x)\n",
    "print(b1x2)\n",
    "\n"
   ],
   "metadata": {
    "collapsed": false,
    "pycharm": {
     "name": "#%%\n"
    }
   }
  },
  {
   "cell_type": "code",
   "execution_count": 30,
   "outputs": [
    {
     "name": "stdout",
     "output_type": "stream",
     "text": [
      "predicted response: \n",
      "[ 8.33333333 13.73333333 19.13333333 24.53333333 29.93333333 35.33333333]\n"
     ]
    }
   ],
   "source": [
    "# 结果预测\n",
    "y_pred = model.predict(x)\n",
    "print(\"predicted response: \",y_pred,sep='\\n')"
   ],
   "metadata": {
    "collapsed": false,
    "pycharm": {
     "name": "#%%\n"
    }
   }
  },
  {
   "cell_type": "markdown",
   "source": [
    "多元线性回归模型\n",
    "\n",
    "\n"
   ],
   "metadata": {
    "collapsed": false,
    "pycharm": {
     "name": "#%% md\n"
    }
   }
  }
 ],
 "metadata": {
  "kernelspec": {
   "display_name": "Python 3",
   "language": "python",
   "name": "python3"
  },
  "language_info": {
   "codemirror_mode": {
    "name": "ipython",
    "version": 3
   },
   "file_extension": ".py",
   "mimetype": "text/x-python",
   "name": "python",
   "nbconvert_exporter": "python",
   "pygments_lexer": "ipython3",
   "version": "3.8.5"
  }
 },
 "nbformat": 4,
 "nbformat_minor": 1
}