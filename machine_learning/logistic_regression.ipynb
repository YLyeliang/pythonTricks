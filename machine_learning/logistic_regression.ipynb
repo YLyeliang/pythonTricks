{
 "cells": [
  {
   "cell_type": "markdown",
   "metadata": {
    "collapsed": true,
    "pycharm": {
     "name": "#%% md\n"
    }
   },
   "source": [
    "# 逻辑回归\n",
    "逻辑回归为线性分类器，\n",
    "对数几率分布公式：\n",
    "\n",
    "$P(Y=1|X=x)={\\frac  {e^{{x'\\beta }}}{1+e^{{x'\\beta }}}}$\n",
    "\n",
    "其中$\\beta$常用极大似然估计.\n",
    "具体细节见知乎：[逻辑回归](https://zhuanlan.zhihu.com/p/74874291)\n",
    "\n",
    "python实现：\n",
    "\n",
    "You can use scikit-learn to perform various functions:\n",
    "\n",
    "- Preprocess data\n",
    "- Reduce the dimensionality of problems\n",
    "- Validate models\n",
    "- Select the most appropriate model\n",
    "- Solve regression and classification problems\n",
    "- Implement cluster analysis"
   ]
  },
  {
   "cell_type": "code",
   "execution_count": 1,
   "outputs": [],
   "source": [
    "# 1.导入相关包\n",
    "import matplotlib.pyplot as plt\n",
    "import numpy as np\n",
    "from sklearn.linear_model import LogisticRegression\n",
    "from sklearn.metrics import classification_report, confusion_matrix"
   ],
   "metadata": {
    "collapsed": false,
    "pycharm": {
     "name": "#%%\n"
    }
   }
  },
  {
   "cell_type": "code",
   "execution_count": 2,
   "outputs": [
    {
     "name": "stdout",
     "output_type": "stream",
     "text": [
      "[[0]\n",
      " [1]\n",
      " [2]\n",
      " [3]\n",
      " [4]\n",
      " [5]\n",
      " [6]\n",
      " [7]\n",
      " [8]\n",
      " [9]]\n",
      "[0 0 0 0 1 1 1 1 1 1]\n"
     ]
    }
   ],
   "source": [
    "# 2.获取数据 这里以二分类为例子\n",
    "x = np.arange(10).reshape(-1, 1)\n",
    "y = np.array([0, 0, 0, 0, 1, 1, 1, 1, 1, 1])\n",
    "print(x)\n",
    "print(y)\n"
   ],
   "metadata": {
    "collapsed": false,
    "pycharm": {
     "name": "#%%\n"
    }
   }
  },
  {
   "cell_type": "code",
   "execution_count": 4,
   "outputs": [
    {
     "name": "stdout",
     "output_type": "stream",
     "text": [
      "LogisticRegression(random_state=0, solver='liblinear')\n",
      "[0 1]\n",
      "[-1.04608067]\n",
      "[[0.51491375]]\n"
     ]
    }
   ],
   "source": [
    "# 3.创建模型进行训练\n",
    "model = LogisticRegression(solver='liblinear', random_state=0)\n",
    "\n",
    "model.fit(x, y)\n",
    "print(model)\n",
    "print(model.classes_)\n",
    "print(model.intercept_)\n",
    "print(model.coef_)\n"
   ],
   "metadata": {
    "collapsed": false,
    "pycharm": {
     "name": "#%%\n"
    }
   }
  },
  {
   "cell_type": "code",
   "execution_count": 9,
   "outputs": [
    {
     "name": "stdout",
     "output_type": "stream",
     "text": [
      "[[0.74002157 0.25997843]\n",
      " [0.62975524 0.37024476]\n",
      " [0.5040632  0.4959368 ]\n",
      " [0.37785549 0.62214451]\n",
      " [0.26628093 0.73371907]\n",
      " [0.17821501 0.82178499]\n",
      " [0.11472079 0.88527921]\n",
      " [0.07186982 0.92813018]\n",
      " [0.04422513 0.95577487]\n",
      " [0.02690569 0.97309431]]\n",
      "[0 0 0 1 1 1 1 1 1 1]\n",
      "0.9\n",
      "              precision    recall  f1-score   support\n",
      "\n",
      "           0       1.00      0.75      0.86         4\n",
      "           1       0.86      1.00      0.92         6\n",
      "\n",
      "    accuracy                           0.90        10\n",
      "   macro avg       0.93      0.88      0.89        10\n",
      "weighted avg       0.91      0.90      0.90        10\n",
      "\n"
     ]
    }
   ],
   "source": [
    "# 4.评估模型\n",
    "print(model.predict_proba(x))\n",
    "print(model.predict(x))\n",
    "print(model.score(x, y))  # 准确率\n",
    "\n",
    "print(classification_report(y, model.predict(x)))\n"
   ],
   "metadata": {
    "collapsed": false,
    "pycharm": {
     "name": "#%%\n"
    }
   }
  },
  {
   "cell_type": "code",
   "execution_count": 8,
   "outputs": [
    {
     "data": {
      "text/plain": "<Figure size 576x576 with 1 Axes>",
      "image/png": "[encoded data removed]"
     },
     "metadata": {
      "needs_background": "light"
     },
     "output_type": "display_data"
    }
   ],
   "source": [
    "# 使用混淆矩阵来生成TP、FP、TN、FN的指标\n",
    "#       p\n",
    "# t   TN FP\n",
    "#     FN TP\n",
    "cm = confusion_matrix(y, model.predict(x))\n",
    "\n",
    "fig, ax = plt.subplots(figsize=(8, 8))\n",
    "ax.imshow(cm)\n",
    "ax.grid(False)\n",
    "ax.xaxis.set(ticks=(0, 1), ticklabels=('Predicted 0s', 'Predicted 1s'))\n",
    "ax.yaxis.set(ticks=(0, 1), ticklabels=('Actual 0s', 'Actual 1s'))\n",
    "ax.set_ylim(1.5, -0.5)\n",
    "for i in range(2):\n",
    "    for j in range(2):\n",
    "        ax.text(j, i, cm[i, j], ha='center', va='center', color='red')\n",
    "plt.show()\n"
   ],
   "metadata": {
    "collapsed": false,
    "pycharm": {
     "name": "#%%\n"
    }
   }
  },
  {
   "cell_type": "code",
   "execution_count": 10,
   "outputs": [
    {
     "name": "stdout",
     "output_type": "stream",
     "text": [
      "[-3.51335372]\n",
      "[[1.12066084]]\n",
      "[[0.97106534 0.02893466]\n",
      " [0.9162684  0.0837316 ]\n",
      " [0.7810904  0.2189096 ]\n",
      " [0.53777071 0.46222929]\n",
      " [0.27502212 0.72497788]\n",
      " [0.11007743 0.88992257]\n",
      " [0.03876835 0.96123165]\n",
      " [0.01298011 0.98701989]\n",
      " [0.0042697  0.9957303 ]\n",
      " [0.00139621 0.99860379]]\n",
      "[0 0 0 0 1 1 1 1 1 1]\n"
     ]
    }
   ],
   "source": [
    "# 模型优化：通过修改不同的参数来对训练数据进行拟合\n",
    "model = LogisticRegression(solver='liblinear', C=10.0, random_state=0)\n",
    "model.fit(x, y)\n",
    "print(model.intercept_)\n",
    "print(model.coef_)\n",
    "print(model.predict_proba(x))\n",
    "print(model.predict(x))\n"
   ],
   "metadata": {
    "collapsed": false,
    "pycharm": {
     "name": "#%%\n"
    }
   }
  },
  {
   "cell_type": "markdown",
   "source": [
    "例2：\n",
    "\n",
    "标签进行更改,通过下列代码，可以看出这一批数据是属于线性不可分的。因此，不能找出一个合适的决策边界，来将两类数据进行合理的划分。"
   ],
   "metadata": {
    "collapsed": false,
    "pycharm": {
     "name": "#%% md\n"
    }
   }
  },
  {
   "cell_type": "code",
   "execution_count": null,
   "outputs": [],
   "source": [
    "# Step 1: Import packages, functions, and classes\n",
    "import numpy as np\n",
    "from sklearn.linear_model import LogisticRegression\n",
    "from sklearn.metrics import classification_report, confusion_matrix\n",
    "\n",
    "# Step 2: Get data\n",
    "x = np.arange(10).reshape(-1, 1)\n",
    "y = np.array([0, 1, 0, 0, 1, 1, 1, 1, 1, 1])\n",
    "\n",
    "# Step 3: Create a model and train it\n",
    "model = LogisticRegression(solver='liblinear', C=10.0, random_state=0)\n",
    "model.fit(x, y)\n",
    "\n",
    "# Step 4: Evaluate the model\n",
    "p_pred = model.predict_proba(x)\n",
    "y_pred = model.predict(x)\n",
    "score_ = model.score(x, y)\n",
    "conf_m = confusion_matrix(y, y_pred)\n",
    "report = classification_report(y, y_pred)"
   ],
   "metadata": {
    "collapsed": false,
    "pycharm": {
     "name": "#%%\n"
    }
   }
  },
  {
   "cell_type": "code",
   "execution_count": null,
   "outputs": [],
   "source": [
    "print('x:', x, sep='\\n')\n",
    "print('y:', y, sep='\\n', end='\\n\\n')\n",
    "print('p_pred:', p_pred, sep='\\n', end='\\n\\n')\n",
    "print('y_pred:', y_pred, end='\\n\\n')\n",
    "print('report:', report, sep='\\n')"
   ],
   "metadata": {
    "collapsed": false,
    "pycharm": {
     "name": "#%%\n"
    }
   }
  },
  {
   "cell_type": "markdown",
   "source": [
    "使用`statsmodels`来完成逻辑回归"
   ],
   "metadata": {
    "collapsed": false,
    "pycharm": {
     "name": "#%% md\n"
    }
   }
  },
  {
   "cell_type": "code",
   "execution_count": 11,
   "outputs": [
    {
     "name": "stdout",
     "output_type": "stream",
     "text": [
      "[[1. 0.]\n",
      " [1. 1.]\n",
      " [1. 2.]\n",
      " [1. 3.]\n",
      " [1. 4.]\n",
      " [1. 5.]\n",
      " [1. 6.]\n",
      " [1. 7.]\n",
      " [1. 8.]\n",
      " [1. 9.]]\n",
      "[0 1 0 0 1 1 1 1 1 1]\n",
      "Optimization terminated successfully.\n",
      "         Current function value: 0.350471\n",
      "         Iterations 7\n",
      "[-1.972805    0.82240094]\n",
      "[0.12208792 0.24041529 0.41872657 0.62114189 0.78864861 0.89465521\n",
      " 0.95080891 0.97777369 0.99011108 0.99563083]\n",
      "[0 0 0 1 1 1 1 1 1 1]\n",
      "[[2. 1.]\n",
      " [1. 6.]]\n",
      "                           Logit Regression Results                           \n",
      "==============================================================================\n",
      "Dep. Variable:                      y   No. Observations:                   10\n",
      "Model:                          Logit   Df Residuals:                        8\n",
      "Method:                           MLE   Df Model:                            1\n",
      "Date:                Thu, 10 Jun 2021   Pseudo R-squ.:                  0.4263\n",
      "Time:                        11:10:49   Log-Likelihood:                -3.5047\n",
      "converged:                       True   LL-Null:                       -6.1086\n",
      "Covariance Type:            nonrobust   LLR p-value:                   0.02248\n",
      "==============================================================================\n",
      "                 coef    std err          z      P>|z|      [0.025      0.975]\n",
      "------------------------------------------------------------------------------\n",
      "const         -1.9728      1.737     -1.136      0.256      -5.377       1.431\n",
      "x1             0.8224      0.528      1.557      0.119      -0.213       1.858\n",
      "==============================================================================\n"
     ]
    },
    {
     "data": {
      "text/plain": "<class 'statsmodels.iolib.summary2.Summary'>\n\"\"\"\n                        Results: Logit\n===============================================================\nModel:              Logit            Pseudo R-squared: 0.426   \nDependent Variable: y                AIC:              11.0094 \nDate:               2021-06-10 11:10 BIC:              11.6146 \nNo. Observations:   10               Log-Likelihood:   -3.5047 \nDf Model:           1                LL-Null:          -6.1086 \nDf Residuals:       8                LLR p-value:      0.022485\nConverged:          1.0000           Scale:            1.0000  \nNo. Iterations:     7.0000                                     \n-----------------------------------------------------------------\n          Coef.    Std.Err.      z      P>|z|     [0.025   0.975]\n-----------------------------------------------------------------\nconst    -1.9728     1.7366   -1.1360   0.2560   -5.3765   1.4309\nx1        0.8224     0.5281    1.5572   0.1194   -0.2127   1.8575\n===============================================================\n\n\"\"\"",
      "text/html": "<table class=\"simpletable\">\n<tr>\n        <td>Model:</td>              <td>Logit</td>      <td>Pseudo R-squared:</td>   <td>0.426</td> \n</tr>\n<tr>\n  <td>Dependent Variable:</td>         <td>y</td>              <td>AIC:</td>         <td>11.0094</td>\n</tr>\n<tr>\n         <td>Date:</td>        <td>2021-06-10 11:10</td>       <td>BIC:</td>         <td>11.6146</td>\n</tr>\n<tr>\n   <td>No. Observations:</td>         <td>10</td>         <td>Log-Likelihood:</td>   <td>-3.5047</td>\n</tr>\n<tr>\n       <td>Df Model:</td>              <td>1</td>            <td>LL-Null:</td>       <td>-6.1086</td>\n</tr>\n<tr>\n     <td>Df Residuals:</td>            <td>8</td>          <td>LLR p-value:</td>    <td>0.022485</td>\n</tr>\n<tr>\n      <td>Converged:</td>           <td>1.0000</td>           <td>Scale:</td>        <td>1.0000</td> \n</tr>\n<tr>\n    <td>No. Iterations:</td>        <td>7.0000</td>              <td></td>              <td></td>    \n</tr>\n</table>\n<table class=\"simpletable\">\n<tr>\n    <td></td>     <th>Coef.</th>  <th>Std.Err.</th>    <th>z</th>     <th>P>|z|</th> <th>[0.025</th>  <th>0.975]</th>\n</tr>\n<tr>\n  <th>const</th> <td>-1.9728</td>  <td>1.7366</td>  <td>-1.1360</td> <td>0.2560</td> <td>-5.3765</td> <td>1.4309</td>\n</tr>\n<tr>\n  <th>x1</th>    <td>0.8224</td>   <td>0.5281</td>  <td>1.5572</td>  <td>0.1194</td> <td>-0.2127</td> <td>1.8575</td>\n</tr>\n</table>"
     },
     "execution_count": 11,
     "metadata": {},
     "output_type": "execute_result"
    }
   ],
   "source": [
    "# 1. import\n",
    "import numpy as np\n",
    "import statsmodels.api as sm\n",
    "\n",
    "# 2. get data\n",
    "x = np.arange(10).reshape(-1, 1)\n",
    "y = np.array([0, 1, 0, 0, 1, 1, 1, 1, 1, 1])\n",
    "x = sm.add_constant(x)  # statsmodels需要手动添加偏差项\n",
    "print(x)\n",
    "print(y)\n",
    "\n",
    "# 3. model and train\n",
    "model = sm.Logit(y, x)\n",
    "result = model.fit(method='newton')\n",
    "print(result.params)  # 回归参数\n",
    "\n",
    "# 4. Evaluate\n",
    "print(result.predict(x))\n",
    "print((result.predict(x) >= 0.5).astype(int))\n",
    "print(result.pred_table())  # confusion matrix\n",
    "print(result.summary())\n",
    "result.summary2()"
   ],
   "metadata": {
    "collapsed": false,
    "pycharm": {
     "name": "#%%\n"
    }
   }
  },
  {
   "cell_type": "markdown",
   "source": [
    "手写数字识别"
   ],
   "metadata": {
    "collapsed": false,
    "pycharm": {
     "name": "#%% md\n"
    }
   }
  },
  {
   "cell_type": "code",
   "execution_count": 15,
   "outputs": [],
   "source": [
    "import matplotlib.pyplot as plt\n",
    "import numpy as np\n",
    "from sklearn.datasets import load_digits\n",
    "from sklearn.linear_model import LogisticRegression\n",
    "from sklearn.metrics import classification_report, confusion_matrix\n",
    "from sklearn.model_selection import train_test_split\n",
    "from sklearn.preprocessing import StandardScaler"
   ],
   "metadata": {
    "collapsed": false,
    "pycharm": {
     "name": "#%%\n"
    }
   }
  },
  {
   "cell_type": "code",
   "execution_count": 18,
   "outputs": [
    {
     "name": "stdout",
     "output_type": "stream",
     "text": [
      "[[ 0.  0.  5. ...  0.  0.  0.]\n",
      " [ 0.  0.  0. ... 10.  0.  0.]\n",
      " [ 0.  0.  0. ... 16.  9.  0.]\n",
      " ...\n",
      " [ 0.  0.  1. ...  6.  0.  0.]\n",
      " [ 0.  0.  2. ... 12.  0.  0.]\n",
      " [ 0.  0. 10. ... 12.  1.  0.]]\n",
      "[0 1 2 ... 8 9 8]\n",
      "0.964509394572025\n",
      "0.9416666666666667\n"
     ]
    }
   ],
   "source": [
    "# get data\n",
    "x, y = load_digits(return_X_y=True)\n",
    "print(x)\n",
    "print(y)\n",
    "x_train, x_test, y_train, y_test = train_test_split(x, y, test_size=0.2, random_state=0)\n",
    "\n",
    "# 数据标准化， 减均值除标准差\n",
    "scaler = StandardScaler()\n",
    "x_train = scaler.fit_transform(x_train)\n",
    "\n",
    "# 训练\n",
    "model = LogisticRegression(solver='liblinear', C=0.05, multi_class='ovr',\n",
    "                           random_state=0)\n",
    "model.fit(x_train, y_train)\n",
    "\n",
    "# 评估\n",
    "x_test = scaler.transform(x_test)\n",
    "y_pred = model.predict(x_test)\n",
    "print(model.score(x_train, y_train))\n",
    "print(model.score(x_test, y_test))"
   ],
   "metadata": {
    "collapsed": false,
    "pycharm": {
     "name": "#%%\n"
    }
   }
  },
  {
   "cell_type": "code",
   "execution_count": 19,
   "outputs": [
    {
     "data": {
      "text/plain": "<Figure size 576x576 with 1 Axes>",
      "image/png": "[encoded data removed]"
     },
     "metadata": {
      "needs_background": "light"
     },
     "output_type": "display_data"
    }
   ],
   "source": [
    "cm = confusion_matrix(y_test, y_pred)\n",
    "font_size = 2\n",
    "fig, ax = plt.subplots(figsize=(8, 8))\n",
    "ax.imshow(cm)\n",
    "ax.grid(False)\n",
    "ax.set_xlabel('Predicted outputs', fontsize=font_size, color='black')\n",
    "ax.set_ylabel('Actual outputs', fontsize=font_size, color='black')\n",
    "ax.xaxis.set(ticks=range(10))\n",
    "ax.yaxis.set(ticks=range(10))\n",
    "ax.set_ylim(9.5, -0.5)\n",
    "for i in range(10):\n",
    "    for j in range(10):\n",
    "        ax.text(j, i, cm[i, j], ha='center', va='center', color='white')\n",
    "plt.show()\n",
    "\n"
   ],
   "metadata": {
    "collapsed": false,
    "pycharm": {
     "name": "#%%\n"
    }
   }
  }
 ],
 "metadata": {
  "kernelspec": {
   "display_name": "Python 3",
   "language": "python",
   "name": "python3"
  },
  "language_info": {
   "codemirror_mode": {
    "name": "ipython",
    "version": 2
   },
   "file_extension": ".py",
   "mimetype": "text/x-python",
   "name": "python",
   "nbconvert_exporter": "python",
   "pygments_lexer": "ipython2",
   "version": "2.7.6"
  }
 },
 "nbformat": 4,
 "nbformat_minor": 0
}